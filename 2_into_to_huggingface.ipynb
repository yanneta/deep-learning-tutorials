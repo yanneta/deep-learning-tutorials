{
 "cells": [
  {
   "cell_type": "code",
   "execution_count": 2,
   "id": "d2802336",
   "metadata": {
    "tags": []
   },
   "outputs": [],
   "source": [
    "from pathlib import Path\n",
    "import numpy as np"
   ]
  },
  {
   "cell_type": "markdown",
   "id": "f713781e",
   "metadata": {},
   "source": [
    "## Sentiment analysis\n",
    "\n",
    "Sentiment analysis is a natural language processing task that involves determining the sentiment or emotional tone expressed in a piece of text. The goal is to classify the text as positive, negative, or neutral, providing insights into the overall sentiment conveyed by the content. This task is widely used in various applications, such as social media monitoring, customer feedback analysis, and opinion mining."
   ]
  },
  {
   "cell_type": "markdown",
   "id": "d6bdef19",
   "metadata": {},
   "source": [
    "To get the sentiment data: <br>\n",
    "`wget https://ai.stanford.edu/~amaas/data/sentiment/aclImdb_v1.tar.gz`\n",
    "\n",
    "To unzip run: <br>\n",
    "`! tar -xvf aclImdb_v1.tar.gz`\n",
    "\n",
    "This is a dataset for binary sentiment classification (positive or negative). The training data consists of 25,000 movie reviews for training, and 25,000 for testing."
   ]
  },
  {
   "cell_type": "code",
   "execution_count": 3,
   "id": "38161d6f",
   "metadata": {
    "tags": []
   },
   "outputs": [
    {
     "name": "stdout",
     "output_type": "stream",
     "text": [
      "README     imdb.vocab imdbEr.txt \u001b[34mtest\u001b[m\u001b[m       \u001b[34mtrain\u001b[m\u001b[m\n"
     ]
    }
   ],
   "source": [
    "! ls ~/data/aclImdb"
   ]
  },
  {
   "cell_type": "code",
   "execution_count": 4,
   "id": "424f8b76",
   "metadata": {
    "tags": []
   },
   "outputs": [],
   "source": [
    "def read_file(path):\n",
    "    f = open(path, \"r\")\n",
    "    return f.read()"
   ]
  },
  {
   "cell_type": "code",
   "execution_count": 5,
   "id": "b22d0553",
   "metadata": {
    "tags": []
   },
   "outputs": [],
   "source": [
    "test_path = Path(\"~\") / \"data/aclImdb/test\"\n",
    "test_path = test_path.expanduser()\n",
    "pos_paths = [f for f in (test_path/\"pos\").iterdir()]\n",
    "neg_paths = [f for f in (test_path/\"neg\").iterdir()]"
   ]
  },
  {
   "cell_type": "code",
   "execution_count": 6,
   "id": "b0172b2b",
   "metadata": {
    "tags": []
   },
   "outputs": [
    {
     "data": {
      "text/plain": [
       "'Based on an actual story, John Boorman shows the struggle of an American doctor, whose husband and son were murdered and she was continually plagued with her loss. A holiday to Burma with her sister seemed like a good idea to get away from it all, but when her passport was stolen in Rangoon, she could not leave the country with her sister, and was forced to stay back until she could get I.D. papers from the American embassy. To fill in a day before she could fly out, she took a trip into the countryside with a tour guide. \"I tried finding something in those stone statues, but nothing stirred in me. I was stone myself.\" <br /><br />Suddenly all hell broke loose and she was caught in a political revolt. Just when it looked like she had escaped and safely boarded a train, she saw her tour guide get beaten and shot. In a split second she decided to jump from the moving train and try to rescue him, with no thought of herself. Continually her life was in danger. <br /><br />Here is a woman who demonstrated spontaneous, selfless charity, risking her life to save another. Patricia Arquette is beautiful, and not just to look at; she has a beautiful heart. This is an unforgettable story. <br /><br />\"We are taught that suffering is the one promise that life always keeps.\"'"
      ]
     },
     "execution_count": 6,
     "metadata": {},
     "output_type": "execute_result"
    }
   ],
   "source": [
    "read_file(pos_paths[0])"
   ]
  },
  {
   "cell_type": "code",
   "execution_count": 7,
   "id": "3ef76ddb",
   "metadata": {
    "tags": []
   },
   "outputs": [],
   "source": [
    "data1 = [read_file(pos_paths[i]) for i in range(10)]"
   ]
  },
  {
   "cell_type": "code",
   "execution_count": 8,
   "id": "2abb6519",
   "metadata": {
    "tags": []
   },
   "outputs": [],
   "source": [
    "data2 = [read_file(neg_paths[i]) for i in range(10)]"
   ]
  },
  {
   "cell_type": "markdown",
   "id": "e2eadc9b",
   "metadata": {},
   "source": [
    "Here is a [link](https://huggingface.co/models?pipeline_tag=text-classification&sort=downloads&search=sentiment) to models that are useful for sentiment analysis."
   ]
  },
  {
   "cell_type": "code",
   "execution_count": 9,
   "id": "9a6cf408",
   "metadata": {
    "tags": []
   },
   "outputs": [],
   "source": [
    "from transformers import pipeline"
   ]
  },
  {
   "cell_type": "code",
   "execution_count": 10,
   "id": "d4bbd724",
   "metadata": {
    "tags": []
   },
   "outputs": [
    {
     "name": "stderr",
     "output_type": "stream",
     "text": [
      "No model was supplied, defaulted to distilbert-base-uncased-finetuned-sst-2-english and revision af0f99b (https://huggingface.co/distilbert-base-uncased-finetuned-sst-2-english).\n",
      "Using a pipeline without specifying a model name and revision in production is not recommended.\n",
      "Xformers is not installed correctly. If you want to use memorry_efficient_attention to accelerate training use the following command to install Xformers\n",
      "pip install xformers.\n"
     ]
    },
    {
     "data": {
      "text/plain": [
       "[{'label': 'POSITIVE', 'score': 0.9998656511306763},\n",
       " {'label': 'NEGATIVE', 'score': 0.9991129040718079}]"
      ]
     },
     "execution_count": 10,
     "metadata": {},
     "output_type": "execute_result"
    }
   ],
   "source": [
    "sentiment_pipeline = pipeline(\"sentiment-analysis\")\n",
    "data = [\"I love you\", \"I hate you\"]\n",
    "sentiment_pipeline(data)"
   ]
  },
  {
   "cell_type": "markdown",
   "id": "9cca2cbc",
   "metadata": {},
   "source": [
    "This default model takes a max of 512 tokens without the max_length you will get an error."
   ]
  },
  {
   "cell_type": "code",
   "execution_count": 45,
   "id": "ba6ff7ba",
   "metadata": {},
   "outputs": [
    {
     "data": {
      "text/plain": [
       "[{'label': 'POSITIVE', 'score': 0.9971122741699219},\n",
       " {'label': 'POSITIVE', 'score': 0.9975005984306335},\n",
       " {'label': 'POSITIVE', 'score': 0.9931706190109253},\n",
       " {'label': 'POSITIVE', 'score': 0.9990983009338379},\n",
       " {'label': 'POSITIVE', 'score': 0.9972705245018005},\n",
       " {'label': 'POSITIVE', 'score': 0.996355414390564},\n",
       " {'label': 'POSITIVE', 'score': 0.9971224665641785},\n",
       " {'label': 'POSITIVE', 'score': 0.9996683597564697},\n",
       " {'label': 'POSITIVE', 'score': 0.9987655878067017},\n",
       " {'label': 'POSITIVE', 'score': 0.9910690784454346}]"
      ]
     },
     "execution_count": 45,
     "metadata": {},
     "output_type": "execute_result"
    }
   ],
   "source": [
    "sentiment_pipeline(data1, max_length=512)"
   ]
  },
  {
   "cell_type": "code",
   "execution_count": 46,
   "id": "67379cdb",
   "metadata": {},
   "outputs": [
    {
     "data": {
      "text/plain": [
       "[{'label': 'POSITIVE', 'score': 0.993617057800293},\n",
       " {'label': 'NEGATIVE', 'score': 0.994662880897522},\n",
       " {'label': 'NEGATIVE', 'score': 0.9976724982261658},\n",
       " {'label': 'NEGATIVE', 'score': 0.9993439316749573},\n",
       " {'label': 'NEGATIVE', 'score': 0.9994088411331177},\n",
       " {'label': 'NEGATIVE', 'score': 0.9961174726486206},\n",
       " {'label': 'NEGATIVE', 'score': 0.9991970658302307},\n",
       " {'label': 'POSITIVE', 'score': 0.9972756505012512},\n",
       " {'label': 'NEGATIVE', 'score': 0.9799123406410217},\n",
       " {'label': 'NEGATIVE', 'score': 0.9983288645744324}]"
      ]
     },
     "execution_count": 46,
     "metadata": {},
     "output_type": "execute_result"
    }
   ],
   "source": [
    "sentiment_pipeline(data2, max_length=512)"
   ]
  },
  {
   "cell_type": "markdown",
   "id": "3018f3f1",
   "metadata": {},
   "source": [
    "Here we specify the model."
   ]
  },
  {
   "cell_type": "code",
   "execution_count": 47,
   "id": "f65c1da1",
   "metadata": {},
   "outputs": [
    {
     "name": "stderr",
     "output_type": "stream",
     "text": [
      "Some weights of the model checkpoint at cardiffnlp/twitter-roberta-base-sentiment-latest were not used when initializing RobertaForSequenceClassification: ['roberta.pooler.dense.bias', 'roberta.pooler.dense.weight']\n",
      "- This IS expected if you are initializing RobertaForSequenceClassification from the checkpoint of a model trained on another task or with another architecture (e.g. initializing a BertForSequenceClassification model from a BertForPreTraining model).\n",
      "- This IS NOT expected if you are initializing RobertaForSequenceClassification from the checkpoint of a model that you expect to be exactly identical (initializing a BertForSequenceClassification model from a BertForSequenceClassification model).\n"
     ]
    }
   ],
   "source": [
    "model_name = \"cardiffnlp/twitter-roberta-base-sentiment-latest\"\n",
    "\n",
    "sentiment_task = pipeline(\"sentiment-analysis\", model=model_name)"
   ]
  },
  {
   "cell_type": "code",
   "execution_count": 50,
   "id": "8eb5f7ba",
   "metadata": {},
   "outputs": [
    {
     "data": {
      "text/plain": [
       "[{'label': 'negative', 'score': 0.546417772769928},\n",
       " {'label': 'positive', 'score': 0.779367208480835},\n",
       " {'label': 'positive', 'score': 0.9537304639816284},\n",
       " {'label': 'positive', 'score': 0.9705942273139954},\n",
       " {'label': 'positive', 'score': 0.8485249876976013},\n",
       " {'label': 'positive', 'score': 0.7092108726501465},\n",
       " {'label': 'positive', 'score': 0.6795801520347595},\n",
       " {'label': 'positive', 'score': 0.682655394077301},\n",
       " {'label': 'negative', 'score': 0.49398666620254517},\n",
       " {'label': 'positive', 'score': 0.8577772974967957}]"
      ]
     },
     "execution_count": 50,
     "metadata": {},
     "output_type": "execute_result"
    }
   ],
   "source": [
    "sentiment_task(data1, max_length=512)"
   ]
  },
  {
   "cell_type": "code",
   "execution_count": 51,
   "id": "07b2c59e",
   "metadata": {},
   "outputs": [
    {
     "data": {
      "text/plain": [
       "[{'label': 'positive', 'score': 0.9468842148780823},\n",
       " {'label': 'negative', 'score': 0.8466248512268066},\n",
       " {'label': 'negative', 'score': 0.7134288549423218},\n",
       " {'label': 'negative', 'score': 0.6122548580169678},\n",
       " {'label': 'negative', 'score': 0.40970394015312195},\n",
       " {'label': 'neutral', 'score': 0.7669347524642944},\n",
       " {'label': 'negative', 'score': 0.7475892901420593},\n",
       " {'label': 'negative', 'score': 0.3856699764728546},\n",
       " {'label': 'negative', 'score': 0.6014850735664368},\n",
       " {'label': 'negative', 'score': 0.8043235540390015}]"
      ]
     },
     "execution_count": 51,
     "metadata": {},
     "output_type": "execute_result"
    }
   ],
   "source": [
    "sentiment_task(data2, max_length=512)"
   ]
  },
  {
   "cell_type": "markdown",
   "id": "f1bd7e85",
   "metadata": {},
   "source": [
    "## Text summarization\n",
    "Text summarization is a natural language processing task aimed at condensing the content of a given text while retaining its key information and meaning. This task is crucial for information retrieval, document organization, and content consumption in various applications."
   ]
  },
  {
   "cell_type": "markdown",
   "id": "e722634c",
   "metadata": {},
   "source": [
    "You can download a summarization dataset from [here](\n",
    "https://www.kaggle.com/datasets/gowrishankarp/newspaper-text-summarization-cnn-dailymail)"
   ]
  },
  {
   "cell_type": "code",
   "execution_count": 11,
   "id": "fad5f792",
   "metadata": {
    "tags": []
   },
   "outputs": [],
   "source": [
    "import pandas as pd\n",
    "df = pd.read_csv(\"~/data/cnn_dailymail/train.csv\") "
   ]
  },
  {
   "cell_type": "code",
   "execution_count": 12,
   "id": "86151c4e",
   "metadata": {
    "tags": []
   },
   "outputs": [
    {
     "data": {
      "text/html": [
       "<div>\n",
       "<style scoped>\n",
       "    .dataframe tbody tr th:only-of-type {\n",
       "        vertical-align: middle;\n",
       "    }\n",
       "\n",
       "    .dataframe tbody tr th {\n",
       "        vertical-align: top;\n",
       "    }\n",
       "\n",
       "    .dataframe thead th {\n",
       "        text-align: right;\n",
       "    }\n",
       "</style>\n",
       "<table border=\"1\" class=\"dataframe\">\n",
       "  <thead>\n",
       "    <tr style=\"text-align: right;\">\n",
       "      <th></th>\n",
       "      <th>id</th>\n",
       "      <th>article</th>\n",
       "      <th>highlights</th>\n",
       "    </tr>\n",
       "  </thead>\n",
       "  <tbody>\n",
       "    <tr>\n",
       "      <th>0</th>\n",
       "      <td>0001d1afc246a7964130f43ae940af6bc6c57f01</td>\n",
       "      <td>By . Associated Press . PUBLISHED: . 14:11 EST...</td>\n",
       "      <td>Bishop John Folda, of North Dakota, is taking ...</td>\n",
       "    </tr>\n",
       "    <tr>\n",
       "      <th>1</th>\n",
       "      <td>0002095e55fcbd3a2f366d9bf92a95433dc305ef</td>\n",
       "      <td>(CNN) -- Ralph Mata was an internal affairs li...</td>\n",
       "      <td>Criminal complaint: Cop used his role to help ...</td>\n",
       "    </tr>\n",
       "    <tr>\n",
       "      <th>2</th>\n",
       "      <td>00027e965c8264c35cc1bc55556db388da82b07f</td>\n",
       "      <td>A drunk driver who killed a young woman in a h...</td>\n",
       "      <td>Craig Eccleston-Todd, 27, had drunk at least t...</td>\n",
       "    </tr>\n",
       "    <tr>\n",
       "      <th>3</th>\n",
       "      <td>0002c17436637c4fe1837c935c04de47adb18e9a</td>\n",
       "      <td>(CNN) -- With a breezy sweep of his pen Presid...</td>\n",
       "      <td>Nina dos Santos says Europe must be ready to a...</td>\n",
       "    </tr>\n",
       "    <tr>\n",
       "      <th>4</th>\n",
       "      <td>0003ad6ef0c37534f80b55b4235108024b407f0b</td>\n",
       "      <td>Fleetwood are the only team still to have a 10...</td>\n",
       "      <td>Fleetwood top of League One after 2-0 win at S...</td>\n",
       "    </tr>\n",
       "  </tbody>\n",
       "</table>\n",
       "</div>"
      ],
      "text/plain": [
       "                                         id  \\\n",
       "0  0001d1afc246a7964130f43ae940af6bc6c57f01   \n",
       "1  0002095e55fcbd3a2f366d9bf92a95433dc305ef   \n",
       "2  00027e965c8264c35cc1bc55556db388da82b07f   \n",
       "3  0002c17436637c4fe1837c935c04de47adb18e9a   \n",
       "4  0003ad6ef0c37534f80b55b4235108024b407f0b   \n",
       "\n",
       "                                             article  \\\n",
       "0  By . Associated Press . PUBLISHED: . 14:11 EST...   \n",
       "1  (CNN) -- Ralph Mata was an internal affairs li...   \n",
       "2  A drunk driver who killed a young woman in a h...   \n",
       "3  (CNN) -- With a breezy sweep of his pen Presid...   \n",
       "4  Fleetwood are the only team still to have a 10...   \n",
       "\n",
       "                                          highlights  \n",
       "0  Bishop John Folda, of North Dakota, is taking ...  \n",
       "1  Criminal complaint: Cop used his role to help ...  \n",
       "2  Craig Eccleston-Todd, 27, had drunk at least t...  \n",
       "3  Nina dos Santos says Europe must be ready to a...  \n",
       "4  Fleetwood top of League One after 2-0 win at S...  "
      ]
     },
     "execution_count": 12,
     "metadata": {},
     "output_type": "execute_result"
    }
   ],
   "source": [
    "df.head()"
   ]
  },
  {
   "cell_type": "code",
   "execution_count": 13,
   "id": "3d3a7cca",
   "metadata": {
    "tags": []
   },
   "outputs": [
    {
     "data": {
      "text/plain": [
       "\"By . Associated Press . PUBLISHED: . 14:11 EST, 25 October 2013 . | . UPDATED: . 15:36 EST, 25 October 2013 . The bishop of the Fargo Catholic Diocese in North Dakota has exposed potentially hundreds of church members in Fargo, Grand Forks and Jamestown to the hepatitis A virus in late September and early October. The state Health Department has issued an advisory of exposure for anyone who attended five churches and took communion. Bishop John Folda (pictured) of the Fargo Catholic Diocese in North Dakota has exposed potentially hundreds of church members in Fargo, Grand Forks and Jamestown to the hepatitis A . State Immunization Program Manager Molly Howell says the risk is low, but officials feel it's important to alert people to the possible exposure. The diocese announced on Monday that Bishop John Folda is taking time off after being diagnosed with hepatitis A. The diocese says he contracted the infection through contaminated food while attending a conference for newly ordained bishops in Italy last month. Symptoms of hepatitis A include fever, tiredness, loss of appetite, nausea and abdominal discomfort. Fargo Catholic Diocese in North Dakota (pictured) is where the bishop is located .\""
      ]
     },
     "execution_count": 13,
     "metadata": {},
     "output_type": "execute_result"
    }
   ],
   "source": [
    "df.iloc[0].article"
   ]
  },
  {
   "cell_type": "code",
   "execution_count": 14,
   "id": "2faa99de",
   "metadata": {
    "tags": []
   },
   "outputs": [
    {
     "data": {
      "text/plain": [
       "'Bishop John Folda, of North Dakota, is taking time off after being diagnosed .\\nHe contracted the infection through contaminated food in Italy .\\nChurch members in Fargo, Grand Forks and Jamestown could have been exposed .'"
      ]
     },
     "execution_count": 14,
     "metadata": {},
     "output_type": "execute_result"
    }
   ],
   "source": [
    "df.iloc[0].highlights"
   ]
  },
  {
   "cell_type": "code",
   "execution_count": 16,
   "id": "7f578c08",
   "metadata": {
    "tags": []
   },
   "outputs": [
    {
     "name": "stdout",
     "output_type": "stream",
     "text": [
      "the bishop of the fargo Catholic diocese in north . Dakota has exposed potentially hundreds of church members to the hepatitis . A virus in late September and early . October . the risk is low, but officials feel it's important to alert people to the possible exposure .\n"
     ]
    }
   ],
   "source": [
    "summarizer = pipeline(\"summarization\", model=\"t5-base\", tokenizer=\"t5-base\")\n",
    "\n",
    "input_text = df.iloc[0].article\n",
    "\n",
    "# Generate summary\n",
    "summary = summarizer(input_text, max_length=150, min_length=50, length_penalty=2.0,\n",
    "                     num_beams=4, early_stopping=True, truncation=True)\n",
    "\n",
    "# Print the generated summary\n",
    "print(summary[0]['summary_text'])"
   ]
  },
  {
   "cell_type": "markdown",
   "id": "f566dc6f-ee9d-479b-9f38-63d0490758d2",
   "metadata": {},
   "source": [
    "### a different model\n",
    "Let's try `google/flan-t5-base` model. Looks much better."
   ]
  },
  {
   "cell_type": "code",
   "execution_count": 18,
   "id": "ca6ffc2a-ad95-47c6-ad19-a8a1841fb6d5",
   "metadata": {
    "tags": []
   },
   "outputs": [
    {
     "name": "stdout",
     "output_type": "stream",
     "text": [
      "Bishop John Folda of the Fargo Catholic Diocese in North Dakota has exposed potentially hundreds of church members in Fargo, Grand Forks and Jamestown to the hepatitis A virus in late September and early October. The state Health Department has issued an advisory of exposure for anyone who attended five churches and took communion. State Immunization Program Manager Molly Howell says the risk is low, but officials feel it's important to alert people to the possible exposure.\n"
     ]
    }
   ],
   "source": [
    "summarizer = pipeline(\"summarization\", model=\"google/flan-t5-base\",\n",
    "                      tokenizer=\"google/flan-t5-base\")\n",
    "\n",
    "input_text = df.iloc[0].article\n",
    "\n",
    "# Generate summary\n",
    "summary = summarizer(input_text, max_length=150, min_length=50, length_penalty=2.0,\n",
    "                     num_beams=4, early_stopping=True, truncation=True)\n",
    "\n",
    "# Print the generated summary\n",
    "print(summary[0]['summary_text'])"
   ]
  },
  {
   "cell_type": "markdown",
   "id": "70fa45b9-8265-4d14-9e4f-a1e42584c553",
   "metadata": {
    "tags": []
   },
   "source": [
    "## Zero shot classification\n",
    "Zero-Shot Classification is a task in natural language processing where a model is trained to predict a class that it did not encounter during its training phase. This method uses  a pre-trained language model and can be considered an instance of transfer learning, which refers to using a model trained for one task in a different application than its original purpose. This approach is particularly useful when the amount of labeled data is limited. <br>\n",
    "In zero-shot classification, the model is provided with a prompt and a sequence of text that describes the desired action in natural language. This differs from single or few-shot classification, which includes one or a few examples of the selected task."
   ]
  },
  {
   "cell_type": "markdown",
   "id": "7e6cf90c-3280-42fd-bf67-4262abe0b5f5",
   "metadata": {},
   "source": [
    "Let's consider this news category dataset https://www.kaggle.com/datasets/rmisra/news-category-dataset"
   ]
  },
  {
   "cell_type": "code",
   "execution_count": 20,
   "id": "b136c797-2704-4eb5-8b2e-bde61f526ad2",
   "metadata": {
    "tags": []
   },
   "outputs": [],
   "source": [
    "df = pd.read_json('~/data/News_Category_Dataset_v3.json', lines=True)"
   ]
  },
  {
   "cell_type": "code",
   "execution_count": 22,
   "id": "1858abe4-b280-4751-bae7-e18324711c59",
   "metadata": {
    "tags": []
   },
   "outputs": [
    {
     "data": {
      "text/html": [
       "<div>\n",
       "<style scoped>\n",
       "    .dataframe tbody tr th:only-of-type {\n",
       "        vertical-align: middle;\n",
       "    }\n",
       "\n",
       "    .dataframe tbody tr th {\n",
       "        vertical-align: top;\n",
       "    }\n",
       "\n",
       "    .dataframe thead th {\n",
       "        text-align: right;\n",
       "    }\n",
       "</style>\n",
       "<table border=\"1\" class=\"dataframe\">\n",
       "  <thead>\n",
       "    <tr style=\"text-align: right;\">\n",
       "      <th></th>\n",
       "      <th>link</th>\n",
       "      <th>headline</th>\n",
       "      <th>category</th>\n",
       "      <th>short_description</th>\n",
       "      <th>authors</th>\n",
       "      <th>date</th>\n",
       "    </tr>\n",
       "  </thead>\n",
       "  <tbody>\n",
       "    <tr>\n",
       "      <th>0</th>\n",
       "      <td>https://www.huffpost.com/entry/covid-boosters-...</td>\n",
       "      <td>Over 4 Million Americans Roll Up Sleeves For O...</td>\n",
       "      <td>U.S. NEWS</td>\n",
       "      <td>Health experts said it is too early to predict...</td>\n",
       "      <td>Carla K. Johnson, AP</td>\n",
       "      <td>2022-09-23</td>\n",
       "    </tr>\n",
       "    <tr>\n",
       "      <th>1</th>\n",
       "      <td>https://www.huffpost.com/entry/american-airlin...</td>\n",
       "      <td>American Airlines Flyer Charged, Banned For Li...</td>\n",
       "      <td>U.S. NEWS</td>\n",
       "      <td>He was subdued by passengers and crew when he ...</td>\n",
       "      <td>Mary Papenfuss</td>\n",
       "      <td>2022-09-23</td>\n",
       "    </tr>\n",
       "    <tr>\n",
       "      <th>2</th>\n",
       "      <td>https://www.huffpost.com/entry/funniest-tweets...</td>\n",
       "      <td>23 Of The Funniest Tweets About Cats And Dogs ...</td>\n",
       "      <td>COMEDY</td>\n",
       "      <td>\"Until you have a dog you don't understand wha...</td>\n",
       "      <td>Elyse Wanshel</td>\n",
       "      <td>2022-09-23</td>\n",
       "    </tr>\n",
       "    <tr>\n",
       "      <th>3</th>\n",
       "      <td>https://www.huffpost.com/entry/funniest-parent...</td>\n",
       "      <td>The Funniest Tweets From Parents This Week (Se...</td>\n",
       "      <td>PARENTING</td>\n",
       "      <td>\"Accidentally put grown-up toothpaste on my to...</td>\n",
       "      <td>Caroline Bologna</td>\n",
       "      <td>2022-09-23</td>\n",
       "    </tr>\n",
       "    <tr>\n",
       "      <th>4</th>\n",
       "      <td>https://www.huffpost.com/entry/amy-cooper-lose...</td>\n",
       "      <td>Woman Who Called Cops On Black Bird-Watcher Lo...</td>\n",
       "      <td>U.S. NEWS</td>\n",
       "      <td>Amy Cooper accused investment firm Franklin Te...</td>\n",
       "      <td>Nina Golgowski</td>\n",
       "      <td>2022-09-22</td>\n",
       "    </tr>\n",
       "  </tbody>\n",
       "</table>\n",
       "</div>"
      ],
      "text/plain": [
       "                                                link  \\\n",
       "0  https://www.huffpost.com/entry/covid-boosters-...   \n",
       "1  https://www.huffpost.com/entry/american-airlin...   \n",
       "2  https://www.huffpost.com/entry/funniest-tweets...   \n",
       "3  https://www.huffpost.com/entry/funniest-parent...   \n",
       "4  https://www.huffpost.com/entry/amy-cooper-lose...   \n",
       "\n",
       "                                            headline   category  \\\n",
       "0  Over 4 Million Americans Roll Up Sleeves For O...  U.S. NEWS   \n",
       "1  American Airlines Flyer Charged, Banned For Li...  U.S. NEWS   \n",
       "2  23 Of The Funniest Tweets About Cats And Dogs ...     COMEDY   \n",
       "3  The Funniest Tweets From Parents This Week (Se...  PARENTING   \n",
       "4  Woman Who Called Cops On Black Bird-Watcher Lo...  U.S. NEWS   \n",
       "\n",
       "                                   short_description               authors  \\\n",
       "0  Health experts said it is too early to predict...  Carla K. Johnson, AP   \n",
       "1  He was subdued by passengers and crew when he ...        Mary Papenfuss   \n",
       "2  \"Until you have a dog you don't understand wha...         Elyse Wanshel   \n",
       "3  \"Accidentally put grown-up toothpaste on my to...      Caroline Bologna   \n",
       "4  Amy Cooper accused investment firm Franklin Te...        Nina Golgowski   \n",
       "\n",
       "        date  \n",
       "0 2022-09-23  \n",
       "1 2022-09-23  \n",
       "2 2022-09-23  \n",
       "3 2022-09-23  \n",
       "4 2022-09-22  "
      ]
     },
     "execution_count": 22,
     "metadata": {},
     "output_type": "execute_result"
    }
   ],
   "source": [
    "df.head()"
   ]
  },
  {
   "cell_type": "code",
   "execution_count": 24,
   "id": "da9af568-d7e2-4722-9d66-3951beabaaf0",
   "metadata": {
    "tags": []
   },
   "outputs": [
    {
     "data": {
      "text/plain": [
       "array(['U.S. NEWS', 'COMEDY', 'PARENTING', 'WORLD NEWS', 'CULTURE & ARTS',\n",
       "       'TECH', 'SPORTS', 'ENTERTAINMENT', 'POLITICS', 'WEIRD NEWS',\n",
       "       'ENVIRONMENT', 'EDUCATION', 'CRIME', 'SCIENCE', 'WELLNESS',\n",
       "       'BUSINESS', 'STYLE & BEAUTY', 'FOOD & DRINK', 'MEDIA',\n",
       "       'QUEER VOICES', 'HOME & LIVING', 'WOMEN', 'BLACK VOICES', 'TRAVEL',\n",
       "       'MONEY', 'RELIGION', 'LATINO VOICES', 'IMPACT', 'WEDDINGS',\n",
       "       'COLLEGE', 'PARENTS', 'ARTS & CULTURE', 'STYLE', 'GREEN', 'TASTE',\n",
       "       'HEALTHY LIVING', 'THE WORLDPOST', 'GOOD NEWS', 'WORLDPOST',\n",
       "       'FIFTY', 'ARTS', 'DIVORCE'], dtype=object)"
      ]
     },
     "execution_count": 24,
     "metadata": {},
     "output_type": "execute_result"
    }
   ],
   "source": [
    "df.category.unique()"
   ]
  },
  {
   "cell_type": "code",
   "execution_count": 33,
   "id": "2e4e303f-070b-441b-8377-5be30c11817d",
   "metadata": {
    "tags": []
   },
   "outputs": [
    {
     "data": {
      "application/vnd.jupyter.widget-view+json": {
       "model_id": "2e04b6f864c5476a8cd2d81332499827",
       "version_major": 2,
       "version_minor": 0
      },
      "text/plain": [
       "Downloading config.json:   0%|          | 0.00/1.15k [00:00<?, ?B/s]"
      ]
     },
     "metadata": {},
     "output_type": "display_data"
    },
    {
     "data": {
      "application/vnd.jupyter.widget-view+json": {
       "model_id": "a84d7aa63a554851945f65d3571ae9be",
       "version_major": 2,
       "version_minor": 0
      },
      "text/plain": [
       "Downloading pytorch_model.bin:   0%|          | 0.00/1.63G [00:00<?, ?B/s]"
      ]
     },
     "metadata": {},
     "output_type": "display_data"
    },
    {
     "data": {
      "application/vnd.jupyter.widget-view+json": {
       "model_id": "2b2b39ee57024bb78611bdf1f5a7171d",
       "version_major": 2,
       "version_minor": 0
      },
      "text/plain": [
       "Downloading tokenizer_config.json:   0%|          | 0.00/26.0 [00:00<?, ?B/s]"
      ]
     },
     "metadata": {},
     "output_type": "display_data"
    },
    {
     "data": {
      "application/vnd.jupyter.widget-view+json": {
       "model_id": "46955eaf9baa4beca80acec8ec2d7b29",
       "version_major": 2,
       "version_minor": 0
      },
      "text/plain": [
       "Downloading vocab.json:   0%|          | 0.00/899k [00:00<?, ?B/s]"
      ]
     },
     "metadata": {},
     "output_type": "display_data"
    },
    {
     "data": {
      "application/vnd.jupyter.widget-view+json": {
       "model_id": "2e62a14e25f247689f2fd9eaaab67b6e",
       "version_major": 2,
       "version_minor": 0
      },
      "text/plain": [
       "Downloading merges.txt:   0%|          | 0.00/456k [00:00<?, ?B/s]"
      ]
     },
     "metadata": {},
     "output_type": "display_data"
    },
    {
     "data": {
      "application/vnd.jupyter.widget-view+json": {
       "model_id": "5327ed00e1f14a03bd198782f8037ed4",
       "version_major": 2,
       "version_minor": 0
      },
      "text/plain": [
       "Downloading tokenizer.json:   0%|          | 0.00/1.36M [00:00<?, ?B/s]"
      ]
     },
     "metadata": {},
     "output_type": "display_data"
    }
   ],
   "source": [
    "pipe = pipeline(model=\"facebook/bart-large-mnli\")"
   ]
  },
  {
   "cell_type": "code",
   "execution_count": 34,
   "id": "c8bfd237-4e1d-4d5f-afd5-a4d5e95f7152",
   "metadata": {
    "tags": []
   },
   "outputs": [
    {
     "data": {
      "text/plain": [
       "['u.s. news', 'comedy', 'parenting', 'world news']"
      ]
     },
     "execution_count": 34,
     "metadata": {},
     "output_type": "execute_result"
    }
   ],
   "source": [
    "cats = ['U.S. NEWS', 'COMEDY', 'PARENTING', 'WORLD NEWS']\n",
    "cats = [x.lower() for x in cat]\n",
    "cats"
   ]
  },
  {
   "cell_type": "code",
   "execution_count": 35,
   "id": "d15e43a2-9566-4cf7-80a1-9ecd15a32a63",
   "metadata": {
    "tags": []
   },
   "outputs": [
    {
     "data": {
      "text/plain": [
       "'Health experts said it is too early to predict whether demand would match up with the 171 million doses of the new boosters the U.S. ordered for the fall.'"
      ]
     },
     "execution_count": 35,
     "metadata": {},
     "output_type": "execute_result"
    }
   ],
   "source": [
    "i = 0\n",
    "text = df.iloc[i].short_description\n",
    "text"
   ]
  },
  {
   "cell_type": "code",
   "execution_count": 37,
   "id": "f91a04ba-89f7-477d-8354-90a921cc5384",
   "metadata": {
    "tags": []
   },
   "outputs": [
    {
     "data": {
      "text/plain": [
       "{'sequence': 'Health experts said it is too early to predict whether demand would match up with the 171 million doses of the new boosters the U.S. ordered for the fall.',\n",
       " 'labels': ['u.s. news', 'world news', 'parenting', 'comedy'],\n",
       " 'scores': [0.5229693055152893,\n",
       "  0.39394956827163696,\n",
       "  0.05158868432044983,\n",
       "  0.031492479145526886]}"
      ]
     },
     "execution_count": 37,
     "metadata": {},
     "output_type": "execute_result"
    }
   ],
   "source": [
    "results = pipe(text, candidate_labels=cats)\n",
    "results"
   ]
  },
  {
   "cell_type": "code",
   "execution_count": 40,
   "id": "d72e6d3d-c91d-4bee-827e-61be4e24a083",
   "metadata": {
    "tags": []
   },
   "outputs": [
    {
     "name": "stdout",
     "output_type": "stream",
     "text": [
      "actual: U.S. NEWS predicted: u.s. news\n",
      "{'sequence': 'Health experts said it is too early to predict whether demand would match up with the 171 million doses of the new boosters the U.S. ordered for the fall.', 'labels': ['u.s. news', 'world news', 'parenting', 'comedy'], 'scores': [0.5229693055152893, 0.39394956827163696, 0.05158868432044983, 0.031492479145526886]}\n",
      "actual: U.S. NEWS predicted: u.s. news\n",
      "{'sequence': \"He was subdued by passengers and crew when he fled to the back of the aircraft after the confrontation, according to the U.S. attorney's office in Los Angeles.\", 'labels': ['u.s. news', 'world news', 'parenting', 'comedy'], 'scores': [0.5980035662651062, 0.2605636715888977, 0.10371487587690353, 0.03771784156560898]}\n",
      "actual: COMEDY predicted: parenting\n",
      "{'sequence': '\"Until you have a dog you don\\'t understand what could be eaten.\"', 'labels': ['parenting', 'comedy', 'u.s. news', 'world news'], 'scores': [0.5189521312713623, 0.28340259194374084, 0.16244830191135406, 0.03519699349999428]}\n",
      "actual: PARENTING predicted: parenting\n",
      "{'sequence': '\"Accidentally put grown-up toothpaste on my toddler’s toothbrush and he screamed like I was cleaning his teeth with a Carolina Reaper dipped in Tabasco sauce.\"', 'labels': ['parenting', 'comedy', 'u.s. news', 'world news'], 'scores': [0.6810835599899292, 0.1379818469285965, 0.12808144092559814, 0.05285323038697243]}\n",
      "actual: U.S. NEWS predicted: world news\n",
      "{'sequence': 'Amy Cooper accused investment firm Franklin Templeton of unfairly firing her and branding her a racist after video of the Central Park encounter went viral.', 'labels': ['world news', 'u.s. news', 'comedy', 'parenting'], 'scores': [0.49417930841445923, 0.4218485653400421, 0.04862959682941437, 0.03534260019659996]}\n",
      "actual: U.S. NEWS predicted: u.s. news\n",
      "{'sequence': 'The 63-year-old woman was seen working at the South Carolina store on Thursday. She was found dead Monday after her family reported her missing, authorities said.', 'labels': ['u.s. news', 'world news', 'parenting', 'comedy'], 'scores': [0.49945828318595886, 0.30060893297195435, 0.11876202374696732, 0.08117083460092545]}\n",
      "actual: U.S. NEWS predicted: u.s. news\n",
      "{'sequence': '\"Who\\'s that behind you?\" an anchor for New York’s PIX11 asked journalist Michelle Ross as she finished up an interview.', 'labels': ['u.s. news', 'comedy', 'world news', 'parenting'], 'scores': [0.701398491859436, 0.17538127303123474, 0.07286849617958069, 0.050351742655038834]}\n",
      "actual: WORLD NEWS predicted: u.s. news\n",
      "{'sequence': 'More than half a million people remained without water service three days after the storm lashed the U.S. territory.', 'labels': ['u.s. news', 'world news', 'parenting', 'comedy'], 'scores': [0.5539090633392334, 0.2795009911060333, 0.09925948083400726, 0.06733057647943497]}\n",
      "actual: CULTURE & ARTS predicted: u.s. news\n",
      "{'sequence': 'In \"Mija,\" director Isabel Castro combined music documentaries with the style of \"Euphoria\" and \"Clueless\" to tell a more nuanced immigration story.', 'labels': ['u.s. news', 'comedy', 'world news', 'parenting'], 'scores': [0.5727842450141907, 0.17682677507400513, 0.12701687216758728, 0.12337204813957214]}\n",
      "actual: WORLD NEWS predicted: world news\n",
      "{'sequence': \"White House officials say the crux of the president's visit to the U.N. this year will be a full-throated condemnation of Russia and its brutal war.\", 'labels': ['world news', 'u.s. news', 'parenting', 'comedy'], 'scores': [0.5133640766143799, 0.42314380407333374, 0.04503435268998146, 0.018457798287272453]}\n"
     ]
    }
   ],
   "source": [
    "for i in range(10):\n",
    "    text = df.iloc[i].short_description\n",
    "    results = pipe(text, candidate_labels=cats)\n",
    "    print(\"actual:\", df.iloc[i].category, \"predicted:\", results['labels'][0])\n",
    "    print(results)"
   ]
  }
 ],
 "metadata": {
  "kernelspec": {
   "display_name": "Python 3 (ipykernel)",
   "language": "python",
   "name": "python3"
  },
  "language_info": {
   "codemirror_mode": {
    "name": "ipython",
    "version": 3
   },
   "file_extension": ".py",
   "mimetype": "text/x-python",
   "name": "python",
   "nbconvert_exporter": "python",
   "pygments_lexer": "ipython3",
   "version": "3.11.4"
  }
 },
 "nbformat": 4,
 "nbformat_minor": 5
}
