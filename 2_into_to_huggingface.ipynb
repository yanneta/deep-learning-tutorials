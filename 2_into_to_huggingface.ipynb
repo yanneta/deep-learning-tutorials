{
 "cells": [
  {
   "cell_type": "code",
   "execution_count": 1,
   "id": "d2802336",
   "metadata": {
    "tags": []
   },
   "outputs": [],
   "source": [
    "from pathlib import Path\n",
    "import numpy as np"
   ]
  },
  {
   "cell_type": "markdown",
   "id": "f713781e",
   "metadata": {},
   "source": [
    "## Sentiment analysis\n",
    "\n",
    "Sentiment analysis is a natural language processing task that involves determining the sentiment or emotional tone expressed in a piece of text. The goal is to classify the text as positive, negative, or neutral, providing insights into the overall sentiment conveyed by the content. This task is widely used in various applications, such as social media monitoring, customer feedback analysis, and opinion mining."
   ]
  },
  {
   "cell_type": "code",
   "execution_count": 2,
   "id": "e3908f54-3928-408b-86f5-fa0050e3feaa",
   "metadata": {},
   "outputs": [
    {
     "name": "stdout",
     "output_type": "stream",
     "text": [
      "1_image_classification.ipynb  3_finetune_llms.ipynb\t  aclImdb\n",
      "2_into_to_huggingface.ipynb   4_image_segmentation.ipynb  aclImdb_v1.tar.gz\n"
     ]
    }
   ],
   "source": [
    "! ls"
   ]
  },
  {
   "cell_type": "markdown",
   "id": "d6bdef19",
   "metadata": {},
   "source": [
    "To get the sentiment data: <br>\n",
    "`wget https://ai.stanford.edu/~amaas/data/sentiment/aclImdb_v1.tar.gz`\n",
    "\n",
    "To unzip run: <br>\n",
    "`! tar -xvf aclImdb_v1.tar.gz`\n",
    "\n",
    "This is a dataset for binary sentiment classification (positive or negative). The training data consists of 25,000 movie reviews for training, and 25,000 for testing."
   ]
  },
  {
   "cell_type": "code",
   "execution_count": 3,
   "id": "38161d6f",
   "metadata": {
    "tags": []
   },
   "outputs": [
    {
     "name": "stdout",
     "output_type": "stream",
     "text": [
      "imdbEr.txt  imdb.vocab\tREADME\ttest  train\n"
     ]
    }
   ],
   "source": [
    "! ls aclImdb"
   ]
  },
  {
   "cell_type": "code",
   "execution_count": 4,
   "id": "424f8b76",
   "metadata": {
    "tags": []
   },
   "outputs": [],
   "source": [
    "def read_file(path):\n",
    "    f = open(path, \"r\")\n",
    "    return f.read()"
   ]
  },
  {
   "cell_type": "code",
   "execution_count": 5,
   "id": "b22d0553",
   "metadata": {
    "tags": []
   },
   "outputs": [],
   "source": [
    "test_path = Path(\"aclImdb/test\")\n",
    "test_path = test_path.expanduser()\n",
    "pos_paths = [f for f in (test_path/\"pos\").iterdir()]\n",
    "neg_paths = [f for f in (test_path/\"neg\").iterdir()]"
   ]
  },
  {
   "cell_type": "code",
   "execution_count": 6,
   "id": "b0172b2b",
   "metadata": {
    "tags": []
   },
   "outputs": [
    {
     "data": {
      "text/plain": [
       "\"Previous reviewer Claudio Carvalho gave a much better recap of the film's plot details than I could. What I recall mostly is that it was just so beautiful, in every sense - emotionally, visually, editorially - just gorgeous.<br /><br />If you like movies that are wonderful to look at, and also have emotional content to which that beauty is relevant, I think you will be glad to have seen this extraordinary and unusual work of art.<br /><br />On a scale of 1 to 10, I'd give it about an 8.75. The only reason I shy away from 9 is that it is a mood piece. If you are in the mood for a really artistic, very romantic film, then it's a 10. I definitely think it's a must-see, but none of us can be in that mood all the time, so, overall, 8.75.\""
      ]
     },
     "execution_count": 6,
     "metadata": {},
     "output_type": "execute_result"
    }
   ],
   "source": [
    "read_file(pos_paths[0])"
   ]
  },
  {
   "cell_type": "code",
   "execution_count": 7,
   "id": "3ef76ddb",
   "metadata": {
    "tags": []
   },
   "outputs": [],
   "source": [
    "data1 = [read_file(pos_paths[i]) for i in range(10)]"
   ]
  },
  {
   "cell_type": "code",
   "execution_count": 8,
   "id": "2abb6519",
   "metadata": {
    "tags": []
   },
   "outputs": [],
   "source": [
    "data2 = [read_file(neg_paths[i]) for i in range(10)]"
   ]
  },
  {
   "cell_type": "markdown",
   "id": "e2eadc9b",
   "metadata": {},
   "source": [
    "Here is a [link](https://huggingface.co/models?pipeline_tag=text-classification&sort=downloads&search=sentiment) to models that are useful for sentiment analysis."
   ]
  },
  {
   "cell_type": "code",
   "execution_count": 11,
   "id": "9a6cf408",
   "metadata": {
    "tags": []
   },
   "outputs": [],
   "source": [
    "# ! pip install transformers\n",
    "from transformers import pipeline"
   ]
  },
  {
   "cell_type": "code",
   "execution_count": 12,
   "id": "d4bbd724",
   "metadata": {
    "tags": []
   },
   "outputs": [
    {
     "name": "stderr",
     "output_type": "stream",
     "text": [
      "No model was supplied, defaulted to distilbert/distilbert-base-uncased-finetuned-sst-2-english and revision 714eb0f (https://huggingface.co/distilbert/distilbert-base-uncased-finetuned-sst-2-english).\n",
      "Using a pipeline without specifying a model name and revision in production is not recommended.\n"
     ]
    },
    {
     "data": {
      "application/vnd.jupyter.widget-view+json": {
       "model_id": "8fa6b465ab4546ac91c1511eabe236ab",
       "version_major": 2,
       "version_minor": 0
      },
      "text/plain": [
       "config.json:   0%|          | 0.00/629 [00:00<?, ?B/s]"
      ]
     },
     "metadata": {},
     "output_type": "display_data"
    },
    {
     "data": {
      "application/vnd.jupyter.widget-view+json": {
       "model_id": "833c18b9bc244fc2a20d69f13652a58d",
       "version_major": 2,
       "version_minor": 0
      },
      "text/plain": [
       "model.safetensors:   0%|          | 0.00/268M [00:00<?, ?B/s]"
      ]
     },
     "metadata": {},
     "output_type": "display_data"
    },
    {
     "data": {
      "application/vnd.jupyter.widget-view+json": {
       "model_id": "b2f6326d4a474e4b92de4fad089ec08d",
       "version_major": 2,
       "version_minor": 0
      },
      "text/plain": [
       "tokenizer_config.json:   0%|          | 0.00/48.0 [00:00<?, ?B/s]"
      ]
     },
     "metadata": {},
     "output_type": "display_data"
    },
    {
     "data": {
      "application/vnd.jupyter.widget-view+json": {
       "model_id": "6f5d1902d71b4e0ca0fb4721310ff5f1",
       "version_major": 2,
       "version_minor": 0
      },
      "text/plain": [
       "vocab.txt:   0%|          | 0.00/232k [00:00<?, ?B/s]"
      ]
     },
     "metadata": {},
     "output_type": "display_data"
    },
    {
     "name": "stderr",
     "output_type": "stream",
     "text": [
      "Device set to use cuda:0\n"
     ]
    },
    {
     "data": {
      "text/plain": [
       "[{'label': 'POSITIVE', 'score': 0.9998656511306763},\n",
       " {'label': 'NEGATIVE', 'score': 0.9991129040718079}]"
      ]
     },
     "execution_count": 12,
     "metadata": {},
     "output_type": "execute_result"
    }
   ],
   "source": [
    "sentiment_pipeline = pipeline(\"sentiment-analysis\")\n",
    "data = [\"I love you\", \"I hate you\"]\n",
    "sentiment_pipeline(data)"
   ]
  },
  {
   "cell_type": "code",
   "execution_count": 14,
   "id": "ba6ff7ba",
   "metadata": {},
   "outputs": [
    {
     "data": {
      "text/plain": [
       "[{'label': 'POSITIVE', 'score': 0.9997010827064514},\n",
       " {'label': 'POSITIVE', 'score': 0.9957257509231567},\n",
       " {'label': 'POSITIVE', 'score': 0.9472860097885132},\n",
       " {'label': 'POSITIVE', 'score': 0.8518150448799133},\n",
       " {'label': 'POSITIVE', 'score': 0.9996123909950256},\n",
       " {'label': 'POSITIVE', 'score': 0.9388156533241272},\n",
       " {'label': 'POSITIVE', 'score': 0.9882730841636658},\n",
       " {'label': 'POSITIVE', 'score': 0.9941344857215881},\n",
       " {'label': 'POSITIVE', 'score': 0.6735564470291138},\n",
       " {'label': 'POSITIVE', 'score': 0.952999472618103}]"
      ]
     },
     "execution_count": 14,
     "metadata": {},
     "output_type": "execute_result"
    }
   ],
   "source": [
    "sentiment_pipeline(data1, max_length=512, truncation=True)"
   ]
  },
  {
   "cell_type": "code",
   "execution_count": 15,
   "id": "67379cdb",
   "metadata": {},
   "outputs": [
    {
     "data": {
      "text/plain": [
       "[{'label': 'NEGATIVE', 'score': 0.999616265296936},\n",
       " {'label': 'NEGATIVE', 'score': 0.6170626282691956},\n",
       " {'label': 'NEGATIVE', 'score': 0.9997100234031677},\n",
       " {'label': 'NEGATIVE', 'score': 0.995756208896637},\n",
       " {'label': 'POSITIVE', 'score': 0.996307373046875},\n",
       " {'label': 'NEGATIVE', 'score': 0.9966711401939392},\n",
       " {'label': 'NEGATIVE', 'score': 0.958416759967804},\n",
       " {'label': 'NEGATIVE', 'score': 0.9994093179702759},\n",
       " {'label': 'NEGATIVE', 'score': 0.9996923208236694},\n",
       " {'label': 'NEGATIVE', 'score': 0.99977046251297}]"
      ]
     },
     "execution_count": 15,
     "metadata": {},
     "output_type": "execute_result"
    }
   ],
   "source": [
    "sentiment_pipeline(data2, max_length=512, truncation=True)"
   ]
  },
  {
   "cell_type": "markdown",
   "id": "3018f3f1",
   "metadata": {},
   "source": [
    "Here we specify the model."
   ]
  },
  {
   "cell_type": "code",
   "execution_count": 28,
   "id": "f65c1da1",
   "metadata": {},
   "outputs": [
    {
     "data": {
      "application/vnd.jupyter.widget-view+json": {
       "model_id": "db54fdeb89be4faf92958efab77c35e7",
       "version_major": 2,
       "version_minor": 0
      },
      "text/plain": [
       "config.json:   0%|          | 0.00/687 [00:00<?, ?B/s]"
      ]
     },
     "metadata": {},
     "output_type": "display_data"
    },
    {
     "data": {
      "application/vnd.jupyter.widget-view+json": {
       "model_id": "310ef980f76f46adaef67b277fcdc794",
       "version_major": 2,
       "version_minor": 0
      },
      "text/plain": [
       "pytorch_model.bin:   0%|          | 0.00/1.42G [00:00<?, ?B/s]"
      ]
     },
     "metadata": {},
     "output_type": "display_data"
    },
    {
     "data": {
      "application/vnd.jupyter.widget-view+json": {
       "model_id": "0d9df5acaa5e41119e3b492c8fa3f12d",
       "version_major": 2,
       "version_minor": 0
      },
      "text/plain": [
       "tokenizer_config.json:   0%|          | 0.00/256 [00:00<?, ?B/s]"
      ]
     },
     "metadata": {},
     "output_type": "display_data"
    },
    {
     "data": {
      "application/vnd.jupyter.widget-view+json": {
       "model_id": "1385a16251734a48b46dc7c85aebbe4f",
       "version_major": 2,
       "version_minor": 0
      },
      "text/plain": [
       "vocab.json:   0%|          | 0.00/798k [00:00<?, ?B/s]"
      ]
     },
     "metadata": {},
     "output_type": "display_data"
    },
    {
     "data": {
      "application/vnd.jupyter.widget-view+json": {
       "model_id": "f2c7e22570ac45d8b828c6748b52f706",
       "version_major": 2,
       "version_minor": 0
      },
      "text/plain": [
       "model.safetensors:   0%|          | 0.00/1.42G [00:00<?, ?B/s]"
      ]
     },
     "metadata": {},
     "output_type": "display_data"
    },
    {
     "data": {
      "application/vnd.jupyter.widget-view+json": {
       "model_id": "9271d32e72ea41428b53362adcba99a5",
       "version_major": 2,
       "version_minor": 0
      },
      "text/plain": [
       "merges.txt:   0%|          | 0.00/456k [00:00<?, ?B/s]"
      ]
     },
     "metadata": {},
     "output_type": "display_data"
    },
    {
     "data": {
      "application/vnd.jupyter.widget-view+json": {
       "model_id": "79789d144f5e40eba2f277d3f45a5f16",
       "version_major": 2,
       "version_minor": 0
      },
      "text/plain": [
       "special_tokens_map.json:   0%|          | 0.00/150 [00:00<?, ?B/s]"
      ]
     },
     "metadata": {},
     "output_type": "display_data"
    },
    {
     "name": "stderr",
     "output_type": "stream",
     "text": [
      "Device set to use cuda:0\n"
     ]
    }
   ],
   "source": [
    "model_path = \"siebert/sentiment-roberta-large-english\"\n",
    "sentiment_task = pipeline(\"sentiment-analysis\", model=model_path, tokenizer=model_path)"
   ]
  },
  {
   "cell_type": "code",
   "execution_count": 31,
   "id": "8eb5f7ba",
   "metadata": {},
   "outputs": [
    {
     "data": {
      "text/plain": [
       "[{'label': 'POSITIVE', 'score': 0.998914361000061},\n",
       " {'label': 'POSITIVE', 'score': 0.9988763928413391},\n",
       " {'label': 'POSITIVE', 'score': 0.9987799525260925},\n",
       " {'label': 'POSITIVE', 'score': 0.9989105463027954},\n",
       " {'label': 'POSITIVE', 'score': 0.9988929629325867},\n",
       " {'label': 'POSITIVE', 'score': 0.9843221306800842},\n",
       " {'label': 'POSITIVE', 'score': 0.9988069534301758},\n",
       " {'label': 'POSITIVE', 'score': 0.9989105463027954},\n",
       " {'label': 'POSITIVE', 'score': 0.9988324046134949},\n",
       " {'label': 'POSITIVE', 'score': 0.9989055395126343}]"
      ]
     },
     "execution_count": 31,
     "metadata": {},
     "output_type": "execute_result"
    }
   ],
   "source": [
    "sentiment_task(data1, max_length=512, truncation=True)"
   ]
  },
  {
   "cell_type": "code",
   "execution_count": 32,
   "id": "07b2c59e",
   "metadata": {},
   "outputs": [
    {
     "data": {
      "text/plain": [
       "[{'label': 'NEGATIVE', 'score': 0.9995086193084717},\n",
       " {'label': 'POSITIVE', 'score': 0.9988320469856262},\n",
       " {'label': 'NEGATIVE', 'score': 0.9995156526565552},\n",
       " {'label': 'NEGATIVE', 'score': 0.9995115995407104},\n",
       " {'label': 'POSITIVE', 'score': 0.998916506767273},\n",
       " {'label': 'NEGATIVE', 'score': 0.9995063543319702},\n",
       " {'label': 'NEGATIVE', 'score': 0.9991637468338013},\n",
       " {'label': 'NEGATIVE', 'score': 0.9995145797729492},\n",
       " {'label': 'NEGATIVE', 'score': 0.999512791633606},\n",
       " {'label': 'NEGATIVE', 'score': 0.9995163679122925}]"
      ]
     },
     "execution_count": 32,
     "metadata": {},
     "output_type": "execute_result"
    }
   ],
   "source": [
    "sentiment_task(data2, max_length=512, truncation=True)"
   ]
  },
  {
   "cell_type": "markdown",
   "id": "f1bd7e85",
   "metadata": {},
   "source": [
    "## Text summarization\n",
    "Text summarization is a natural language processing task aimed at condensing the content of a given text while retaining its key information and meaning. This task is crucial for information retrieval, document organization, and content consumption in various applications."
   ]
  },
  {
   "cell_type": "markdown",
   "id": "e722634c",
   "metadata": {},
   "source": [
    "You can download a summarization dataset from [here](\n",
    "https://www.kaggle.com/datasets/gowrishankarp/newspaper-text-summarization-cnn-dailymail)"
   ]
  },
  {
   "cell_type": "code",
   "execution_count": 38,
   "id": "fad5f792",
   "metadata": {
    "tags": []
   },
   "outputs": [],
   "source": [
    "import pandas as pd\n",
    "df = pd.read_csv(\"cnn_dailymail/train.csv\") "
   ]
  },
  {
   "cell_type": "code",
   "execution_count": 39,
   "id": "86151c4e",
   "metadata": {
    "tags": []
   },
   "outputs": [
    {
     "data": {
      "text/html": [
       "<div>\n",
       "<style scoped>\n",
       "    .dataframe tbody tr th:only-of-type {\n",
       "        vertical-align: middle;\n",
       "    }\n",
       "\n",
       "    .dataframe tbody tr th {\n",
       "        vertical-align: top;\n",
       "    }\n",
       "\n",
       "    .dataframe thead th {\n",
       "        text-align: right;\n",
       "    }\n",
       "</style>\n",
       "<table border=\"1\" class=\"dataframe\">\n",
       "  <thead>\n",
       "    <tr style=\"text-align: right;\">\n",
       "      <th></th>\n",
       "      <th>id</th>\n",
       "      <th>article</th>\n",
       "      <th>highlights</th>\n",
       "    </tr>\n",
       "  </thead>\n",
       "  <tbody>\n",
       "    <tr>\n",
       "      <th>0</th>\n",
       "      <td>0001d1afc246a7964130f43ae940af6bc6c57f01</td>\n",
       "      <td>By . Associated Press . PUBLISHED: . 14:11 EST...</td>\n",
       "      <td>Bishop John Folda, of North Dakota, is taking ...</td>\n",
       "    </tr>\n",
       "    <tr>\n",
       "      <th>1</th>\n",
       "      <td>0002095e55fcbd3a2f366d9bf92a95433dc305ef</td>\n",
       "      <td>(CNN) -- Ralph Mata was an internal affairs li...</td>\n",
       "      <td>Criminal complaint: Cop used his role to help ...</td>\n",
       "    </tr>\n",
       "    <tr>\n",
       "      <th>2</th>\n",
       "      <td>00027e965c8264c35cc1bc55556db388da82b07f</td>\n",
       "      <td>A drunk driver who killed a young woman in a h...</td>\n",
       "      <td>Craig Eccleston-Todd, 27, had drunk at least t...</td>\n",
       "    </tr>\n",
       "    <tr>\n",
       "      <th>3</th>\n",
       "      <td>0002c17436637c4fe1837c935c04de47adb18e9a</td>\n",
       "      <td>(CNN) -- With a breezy sweep of his pen Presid...</td>\n",
       "      <td>Nina dos Santos says Europe must be ready to a...</td>\n",
       "    </tr>\n",
       "    <tr>\n",
       "      <th>4</th>\n",
       "      <td>0003ad6ef0c37534f80b55b4235108024b407f0b</td>\n",
       "      <td>Fleetwood are the only team still to have a 10...</td>\n",
       "      <td>Fleetwood top of League One after 2-0 win at S...</td>\n",
       "    </tr>\n",
       "  </tbody>\n",
       "</table>\n",
       "</div>"
      ],
      "text/plain": [
       "                                         id  \\\n",
       "0  0001d1afc246a7964130f43ae940af6bc6c57f01   \n",
       "1  0002095e55fcbd3a2f366d9bf92a95433dc305ef   \n",
       "2  00027e965c8264c35cc1bc55556db388da82b07f   \n",
       "3  0002c17436637c4fe1837c935c04de47adb18e9a   \n",
       "4  0003ad6ef0c37534f80b55b4235108024b407f0b   \n",
       "\n",
       "                                             article  \\\n",
       "0  By . Associated Press . PUBLISHED: . 14:11 EST...   \n",
       "1  (CNN) -- Ralph Mata was an internal affairs li...   \n",
       "2  A drunk driver who killed a young woman in a h...   \n",
       "3  (CNN) -- With a breezy sweep of his pen Presid...   \n",
       "4  Fleetwood are the only team still to have a 10...   \n",
       "\n",
       "                                          highlights  \n",
       "0  Bishop John Folda, of North Dakota, is taking ...  \n",
       "1  Criminal complaint: Cop used his role to help ...  \n",
       "2  Craig Eccleston-Todd, 27, had drunk at least t...  \n",
       "3  Nina dos Santos says Europe must be ready to a...  \n",
       "4  Fleetwood top of League One after 2-0 win at S...  "
      ]
     },
     "execution_count": 39,
     "metadata": {},
     "output_type": "execute_result"
    }
   ],
   "source": [
    "df.head()"
   ]
  },
  {
   "cell_type": "code",
   "execution_count": 40,
   "id": "3d3a7cca",
   "metadata": {
    "tags": []
   },
   "outputs": [
    {
     "data": {
      "text/plain": [
       "\"By . Associated Press . PUBLISHED: . 14:11 EST, 25 October 2013 . | . UPDATED: . 15:36 EST, 25 October 2013 . The bishop of the Fargo Catholic Diocese in North Dakota has exposed potentially hundreds of church members in Fargo, Grand Forks and Jamestown to the hepatitis A virus in late September and early October. The state Health Department has issued an advisory of exposure for anyone who attended five churches and took communion. Bishop John Folda (pictured) of the Fargo Catholic Diocese in North Dakota has exposed potentially hundreds of church members in Fargo, Grand Forks and Jamestown to the hepatitis A . State Immunization Program Manager Molly Howell says the risk is low, but officials feel it's important to alert people to the possible exposure. The diocese announced on Monday that Bishop John Folda is taking time off after being diagnosed with hepatitis A. The diocese says he contracted the infection through contaminated food while attending a conference for newly ordained bishops in Italy last month. Symptoms of hepatitis A include fever, tiredness, loss of appetite, nausea and abdominal discomfort. Fargo Catholic Diocese in North Dakota (pictured) is where the bishop is located .\""
      ]
     },
     "execution_count": 40,
     "metadata": {},
     "output_type": "execute_result"
    }
   ],
   "source": [
    "df.iloc[0].article"
   ]
  },
  {
   "cell_type": "code",
   "execution_count": 41,
   "id": "2faa99de",
   "metadata": {
    "tags": []
   },
   "outputs": [
    {
     "data": {
      "text/plain": [
       "'Bishop John Folda, of North Dakota, is taking time off after being diagnosed .\\nHe contracted the infection through contaminated food in Italy .\\nChurch members in Fargo, Grand Forks and Jamestown could have been exposed .'"
      ]
     },
     "execution_count": 41,
     "metadata": {},
     "output_type": "execute_result"
    }
   ],
   "source": [
    "df.iloc[0].highlights"
   ]
  },
  {
   "cell_type": "code",
   "execution_count": 42,
   "id": "7f578c08",
   "metadata": {
    "tags": []
   },
   "outputs": [
    {
     "data": {
      "application/vnd.jupyter.widget-view+json": {
       "model_id": "400da414e9014d25aaf786e054fef300",
       "version_major": 2,
       "version_minor": 0
      },
      "text/plain": [
       "config.json:   0%|          | 0.00/1.21k [00:00<?, ?B/s]"
      ]
     },
     "metadata": {},
     "output_type": "display_data"
    },
    {
     "data": {
      "application/vnd.jupyter.widget-view+json": {
       "model_id": "7278a062527d4370a8f506805d5acb1e",
       "version_major": 2,
       "version_minor": 0
      },
      "text/plain": [
       "model.safetensors:   0%|          | 0.00/892M [00:00<?, ?B/s]"
      ]
     },
     "metadata": {},
     "output_type": "display_data"
    },
    {
     "data": {
      "application/vnd.jupyter.widget-view+json": {
       "model_id": "379a6ca60ba6440380f5d808a44da8bb",
       "version_major": 2,
       "version_minor": 0
      },
      "text/plain": [
       "generation_config.json:   0%|          | 0.00/147 [00:00<?, ?B/s]"
      ]
     },
     "metadata": {},
     "output_type": "display_data"
    },
    {
     "data": {
      "application/vnd.jupyter.widget-view+json": {
       "model_id": "1bcf5684db0740d19d336b51f24bdceb",
       "version_major": 2,
       "version_minor": 0
      },
      "text/plain": [
       "spiece.model:   0%|          | 0.00/792k [00:00<?, ?B/s]"
      ]
     },
     "metadata": {},
     "output_type": "display_data"
    },
    {
     "data": {
      "application/vnd.jupyter.widget-view+json": {
       "model_id": "9cf6ba2a6aed46869b0d87f1bee07f44",
       "version_major": 2,
       "version_minor": 0
      },
      "text/plain": [
       "tokenizer.json:   0%|          | 0.00/1.39M [00:00<?, ?B/s]"
      ]
     },
     "metadata": {},
     "output_type": "display_data"
    },
    {
     "name": "stderr",
     "output_type": "stream",
     "text": [
      "Device set to use cuda:0\n",
      "Asking to truncate to max_length but no maximum length is provided and the model has no predefined maximum length. Default to no truncation.\n"
     ]
    },
    {
     "name": "stdout",
     "output_type": "stream",
     "text": [
      "the bishop of the fargo Catholic diocese in north . Dakota has exposed potentially hundreds of church members to the hepatitis . A virus in late September and early . October . the risk is low, but officials feel it's important to alert people to the possible exposure .\n"
     ]
    }
   ],
   "source": [
    "summarizer = pipeline(\"summarization\", model=\"t5-base\", tokenizer=\"t5-base\")\n",
    "\n",
    "input_text = df.iloc[0].article\n",
    "\n",
    "# Generate summary\n",
    "summary = summarizer(input_text, max_length=150, min_length=50, length_penalty=2.0,\n",
    "                     num_beams=4, early_stopping=True, truncation=True)\n",
    "\n",
    "# Print the generated summary\n",
    "print(summary[0]['summary_text'])"
   ]
  },
  {
   "cell_type": "markdown",
   "id": "f566dc6f-ee9d-479b-9f38-63d0490758d2",
   "metadata": {},
   "source": [
    "### a different model\n",
    "Let's try `google/flan-t5-base` model. Looks much better."
   ]
  },
  {
   "cell_type": "code",
   "execution_count": 43,
   "id": "ca6ffc2a-ad95-47c6-ad19-a8a1841fb6d5",
   "metadata": {
    "tags": []
   },
   "outputs": [
    {
     "data": {
      "application/vnd.jupyter.widget-view+json": {
       "model_id": "bd6c66cb8a30430883dfe7531bd689ac",
       "version_major": 2,
       "version_minor": 0
      },
      "text/plain": [
       "config.json:   0%|          | 0.00/1.40k [00:00<?, ?B/s]"
      ]
     },
     "metadata": {},
     "output_type": "display_data"
    },
    {
     "data": {
      "application/vnd.jupyter.widget-view+json": {
       "model_id": "2f0b39111443421f855c78af3610ad74",
       "version_major": 2,
       "version_minor": 0
      },
      "text/plain": [
       "model.safetensors:   0%|          | 0.00/990M [00:00<?, ?B/s]"
      ]
     },
     "metadata": {},
     "output_type": "display_data"
    },
    {
     "data": {
      "application/vnd.jupyter.widget-view+json": {
       "model_id": "2cbf2bbff079477595ed3ab6da686950",
       "version_major": 2,
       "version_minor": 0
      },
      "text/plain": [
       "generation_config.json:   0%|          | 0.00/147 [00:00<?, ?B/s]"
      ]
     },
     "metadata": {},
     "output_type": "display_data"
    },
    {
     "data": {
      "application/vnd.jupyter.widget-view+json": {
       "model_id": "829eec780b8a49af9468d7158a1415ea",
       "version_major": 2,
       "version_minor": 0
      },
      "text/plain": [
       "tokenizer_config.json:   0%|          | 0.00/2.54k [00:00<?, ?B/s]"
      ]
     },
     "metadata": {},
     "output_type": "display_data"
    },
    {
     "data": {
      "application/vnd.jupyter.widget-view+json": {
       "model_id": "c14cdff864e04f348e93b255e2214527",
       "version_major": 2,
       "version_minor": 0
      },
      "text/plain": [
       "spiece.model:   0%|          | 0.00/792k [00:00<?, ?B/s]"
      ]
     },
     "metadata": {},
     "output_type": "display_data"
    },
    {
     "data": {
      "application/vnd.jupyter.widget-view+json": {
       "model_id": "bcae45aa1c374720b0822ae0322c8f21",
       "version_major": 2,
       "version_minor": 0
      },
      "text/plain": [
       "tokenizer.json:   0%|          | 0.00/2.42M [00:00<?, ?B/s]"
      ]
     },
     "metadata": {},
     "output_type": "display_data"
    },
    {
     "data": {
      "application/vnd.jupyter.widget-view+json": {
       "model_id": "7710b469ad584e1d83ba31f3fb61efc7",
       "version_major": 2,
       "version_minor": 0
      },
      "text/plain": [
       "special_tokens_map.json:   0%|          | 0.00/2.20k [00:00<?, ?B/s]"
      ]
     },
     "metadata": {},
     "output_type": "display_data"
    },
    {
     "name": "stderr",
     "output_type": "stream",
     "text": [
      "Device set to use cuda:0\n"
     ]
    },
    {
     "name": "stdout",
     "output_type": "stream",
     "text": [
      "Bishop John Folda of the Fargo Catholic Diocese in North Dakota has exposed potentially hundreds of church members in Fargo, Grand Forks and Jamestown to the hepatitis A virus in late September and early October. The state Health Department has issued an advisory of exposure for anyone who attended five churches and took communion. State Immunization Program Manager Molly Howell says the risk is low, but officials feel it's important to alert people to the possible exposure.\n"
     ]
    }
   ],
   "source": [
    "summarizer = pipeline(\"summarization\", model=\"google/flan-t5-base\",\n",
    "                      tokenizer=\"google/flan-t5-base\")\n",
    "\n",
    "input_text = df.iloc[0].article\n",
    "\n",
    "# Generate summary\n",
    "summary = summarizer(input_text, max_length=150, min_length=50, length_penalty=2.0,\n",
    "                     num_beams=4, early_stopping=True, truncation=True)\n",
    "\n",
    "# Print the generated summary\n",
    "print(summary[0]['summary_text'])"
   ]
  },
  {
   "cell_type": "markdown",
   "id": "70fa45b9-8265-4d14-9e4f-a1e42584c553",
   "metadata": {
    "tags": []
   },
   "source": [
    "## Zero shot classification\n",
    "Zero-Shot Classification is a task in natural language processing where a model is trained to predict a class that it did not encounter during its training phase. This method uses  a pre-trained language model and can be considered an instance of transfer learning, which refers to using a model trained for one task in a different application than its original purpose. This approach is particularly useful when the amount of labeled data is limited. <br>\n",
    "In zero-shot classification, the model is provided with a prompt and a sequence of text that describes the desired action in natural language. This differs from single or few-shot classification, which includes one or a few examples of the selected task."
   ]
  },
  {
   "cell_type": "markdown",
   "id": "7e6cf90c-3280-42fd-bf67-4262abe0b5f5",
   "metadata": {},
   "source": [
    "Let's consider this news category dataset https://www.kaggle.com/datasets/rmisra/news-category-dataset"
   ]
  },
  {
   "cell_type": "code",
   "execution_count": 47,
   "id": "b136c797-2704-4eb5-8b2e-bde61f526ad2",
   "metadata": {
    "tags": []
   },
   "outputs": [],
   "source": [
    "df = pd.read_json('News_Category_Dataset_v3.json', lines=True)"
   ]
  },
  {
   "cell_type": "code",
   "execution_count": 48,
   "id": "1858abe4-b280-4751-bae7-e18324711c59",
   "metadata": {
    "tags": []
   },
   "outputs": [
    {
     "data": {
      "text/html": [
       "<div>\n",
       "<style scoped>\n",
       "    .dataframe tbody tr th:only-of-type {\n",
       "        vertical-align: middle;\n",
       "    }\n",
       "\n",
       "    .dataframe tbody tr th {\n",
       "        vertical-align: top;\n",
       "    }\n",
       "\n",
       "    .dataframe thead th {\n",
       "        text-align: right;\n",
       "    }\n",
       "</style>\n",
       "<table border=\"1\" class=\"dataframe\">\n",
       "  <thead>\n",
       "    <tr style=\"text-align: right;\">\n",
       "      <th></th>\n",
       "      <th>link</th>\n",
       "      <th>headline</th>\n",
       "      <th>category</th>\n",
       "      <th>short_description</th>\n",
       "      <th>authors</th>\n",
       "      <th>date</th>\n",
       "    </tr>\n",
       "  </thead>\n",
       "  <tbody>\n",
       "    <tr>\n",
       "      <th>0</th>\n",
       "      <td>https://www.huffpost.com/entry/covid-boosters-...</td>\n",
       "      <td>Over 4 Million Americans Roll Up Sleeves For O...</td>\n",
       "      <td>U.S. NEWS</td>\n",
       "      <td>Health experts said it is too early to predict...</td>\n",
       "      <td>Carla K. Johnson, AP</td>\n",
       "      <td>2022-09-23</td>\n",
       "    </tr>\n",
       "    <tr>\n",
       "      <th>1</th>\n",
       "      <td>https://www.huffpost.com/entry/american-airlin...</td>\n",
       "      <td>American Airlines Flyer Charged, Banned For Li...</td>\n",
       "      <td>U.S. NEWS</td>\n",
       "      <td>He was subdued by passengers and crew when he ...</td>\n",
       "      <td>Mary Papenfuss</td>\n",
       "      <td>2022-09-23</td>\n",
       "    </tr>\n",
       "    <tr>\n",
       "      <th>2</th>\n",
       "      <td>https://www.huffpost.com/entry/funniest-tweets...</td>\n",
       "      <td>23 Of The Funniest Tweets About Cats And Dogs ...</td>\n",
       "      <td>COMEDY</td>\n",
       "      <td>\"Until you have a dog you don't understand wha...</td>\n",
       "      <td>Elyse Wanshel</td>\n",
       "      <td>2022-09-23</td>\n",
       "    </tr>\n",
       "    <tr>\n",
       "      <th>3</th>\n",
       "      <td>https://www.huffpost.com/entry/funniest-parent...</td>\n",
       "      <td>The Funniest Tweets From Parents This Week (Se...</td>\n",
       "      <td>PARENTING</td>\n",
       "      <td>\"Accidentally put grown-up toothpaste on my to...</td>\n",
       "      <td>Caroline Bologna</td>\n",
       "      <td>2022-09-23</td>\n",
       "    </tr>\n",
       "    <tr>\n",
       "      <th>4</th>\n",
       "      <td>https://www.huffpost.com/entry/amy-cooper-lose...</td>\n",
       "      <td>Woman Who Called Cops On Black Bird-Watcher Lo...</td>\n",
       "      <td>U.S. NEWS</td>\n",
       "      <td>Amy Cooper accused investment firm Franklin Te...</td>\n",
       "      <td>Nina Golgowski</td>\n",
       "      <td>2022-09-22</td>\n",
       "    </tr>\n",
       "  </tbody>\n",
       "</table>\n",
       "</div>"
      ],
      "text/plain": [
       "                                                link  \\\n",
       "0  https://www.huffpost.com/entry/covid-boosters-...   \n",
       "1  https://www.huffpost.com/entry/american-airlin...   \n",
       "2  https://www.huffpost.com/entry/funniest-tweets...   \n",
       "3  https://www.huffpost.com/entry/funniest-parent...   \n",
       "4  https://www.huffpost.com/entry/amy-cooper-lose...   \n",
       "\n",
       "                                            headline   category  \\\n",
       "0  Over 4 Million Americans Roll Up Sleeves For O...  U.S. NEWS   \n",
       "1  American Airlines Flyer Charged, Banned For Li...  U.S. NEWS   \n",
       "2  23 Of The Funniest Tweets About Cats And Dogs ...     COMEDY   \n",
       "3  The Funniest Tweets From Parents This Week (Se...  PARENTING   \n",
       "4  Woman Who Called Cops On Black Bird-Watcher Lo...  U.S. NEWS   \n",
       "\n",
       "                                   short_description               authors  \\\n",
       "0  Health experts said it is too early to predict...  Carla K. Johnson, AP   \n",
       "1  He was subdued by passengers and crew when he ...        Mary Papenfuss   \n",
       "2  \"Until you have a dog you don't understand wha...         Elyse Wanshel   \n",
       "3  \"Accidentally put grown-up toothpaste on my to...      Caroline Bologna   \n",
       "4  Amy Cooper accused investment firm Franklin Te...        Nina Golgowski   \n",
       "\n",
       "        date  \n",
       "0 2022-09-23  \n",
       "1 2022-09-23  \n",
       "2 2022-09-23  \n",
       "3 2022-09-23  \n",
       "4 2022-09-22  "
      ]
     },
     "execution_count": 48,
     "metadata": {},
     "output_type": "execute_result"
    }
   ],
   "source": [
    "df.head()"
   ]
  },
  {
   "cell_type": "code",
   "execution_count": 49,
   "id": "da9af568-d7e2-4722-9d66-3951beabaaf0",
   "metadata": {
    "tags": []
   },
   "outputs": [
    {
     "data": {
      "text/plain": [
       "array(['U.S. NEWS', 'COMEDY', 'PARENTING', 'WORLD NEWS', 'CULTURE & ARTS',\n",
       "       'TECH', 'SPORTS', 'ENTERTAINMENT', 'POLITICS', 'WEIRD NEWS',\n",
       "       'ENVIRONMENT', 'EDUCATION', 'CRIME', 'SCIENCE', 'WELLNESS',\n",
       "       'BUSINESS', 'STYLE & BEAUTY', 'FOOD & DRINK', 'MEDIA',\n",
       "       'QUEER VOICES', 'HOME & LIVING', 'WOMEN', 'BLACK VOICES', 'TRAVEL',\n",
       "       'MONEY', 'RELIGION', 'LATINO VOICES', 'IMPACT', 'WEDDINGS',\n",
       "       'COLLEGE', 'PARENTS', 'ARTS & CULTURE', 'STYLE', 'GREEN', 'TASTE',\n",
       "       'HEALTHY LIVING', 'THE WORLDPOST', 'GOOD NEWS', 'WORLDPOST',\n",
       "       'FIFTY', 'ARTS', 'DIVORCE'], dtype=object)"
      ]
     },
     "execution_count": 49,
     "metadata": {},
     "output_type": "execute_result"
    }
   ],
   "source": [
    "df.category.unique()"
   ]
  },
  {
   "cell_type": "code",
   "execution_count": 50,
   "id": "2e4e303f-070b-441b-8377-5be30c11817d",
   "metadata": {
    "tags": []
   },
   "outputs": [
    {
     "data": {
      "application/vnd.jupyter.widget-view+json": {
       "model_id": "ef37737cca0c4db3afbccd2b3138139e",
       "version_major": 2,
       "version_minor": 0
      },
      "text/plain": [
       "config.json:   0%|          | 0.00/1.15k [00:00<?, ?B/s]"
      ]
     },
     "metadata": {},
     "output_type": "display_data"
    },
    {
     "data": {
      "application/vnd.jupyter.widget-view+json": {
       "model_id": "7bb2219fd4784d249176d2d843237c31",
       "version_major": 2,
       "version_minor": 0
      },
      "text/plain": [
       "model.safetensors:   0%|          | 0.00/1.63G [00:00<?, ?B/s]"
      ]
     },
     "metadata": {},
     "output_type": "display_data"
    },
    {
     "data": {
      "application/vnd.jupyter.widget-view+json": {
       "model_id": "436c6e6adbc442beb3e9eb5f710630d8",
       "version_major": 2,
       "version_minor": 0
      },
      "text/plain": [
       "tokenizer_config.json:   0%|          | 0.00/26.0 [00:00<?, ?B/s]"
      ]
     },
     "metadata": {},
     "output_type": "display_data"
    },
    {
     "data": {
      "application/vnd.jupyter.widget-view+json": {
       "model_id": "3650208696ef41119a79e4a9b39d2358",
       "version_major": 2,
       "version_minor": 0
      },
      "text/plain": [
       "vocab.json:   0%|          | 0.00/899k [00:00<?, ?B/s]"
      ]
     },
     "metadata": {},
     "output_type": "display_data"
    },
    {
     "data": {
      "application/vnd.jupyter.widget-view+json": {
       "model_id": "7be0c89e1b324755b3b8f6c716631769",
       "version_major": 2,
       "version_minor": 0
      },
      "text/plain": [
       "merges.txt:   0%|          | 0.00/456k [00:00<?, ?B/s]"
      ]
     },
     "metadata": {},
     "output_type": "display_data"
    },
    {
     "data": {
      "application/vnd.jupyter.widget-view+json": {
       "model_id": "60e2854fb6eb4ac8b91768424922aa24",
       "version_major": 2,
       "version_minor": 0
      },
      "text/plain": [
       "tokenizer.json:   0%|          | 0.00/1.36M [00:00<?, ?B/s]"
      ]
     },
     "metadata": {},
     "output_type": "display_data"
    },
    {
     "name": "stderr",
     "output_type": "stream",
     "text": [
      "Device set to use cuda:0\n"
     ]
    }
   ],
   "source": [
    "pipe = pipeline(model=\"facebook/bart-large-mnli\")"
   ]
  },
  {
   "cell_type": "code",
   "execution_count": 52,
   "id": "c8bfd237-4e1d-4d5f-afd5-a4d5e95f7152",
   "metadata": {
    "tags": []
   },
   "outputs": [
    {
     "data": {
      "text/plain": [
       "['u.s. news', 'comedy', 'parenting', 'world news']"
      ]
     },
     "execution_count": 52,
     "metadata": {},
     "output_type": "execute_result"
    }
   ],
   "source": [
    "cats = ['U.S. NEWS', 'COMEDY', 'PARENTING', 'WORLD NEWS']\n",
    "cats = [x.lower() for x in cats]\n",
    "cats"
   ]
  },
  {
   "cell_type": "code",
   "execution_count": 53,
   "id": "d15e43a2-9566-4cf7-80a1-9ecd15a32a63",
   "metadata": {
    "tags": []
   },
   "outputs": [
    {
     "data": {
      "text/plain": [
       "'Health experts said it is too early to predict whether demand would match up with the 171 million doses of the new boosters the U.S. ordered for the fall.'"
      ]
     },
     "execution_count": 53,
     "metadata": {},
     "output_type": "execute_result"
    }
   ],
   "source": [
    "i = 0\n",
    "text = df.iloc[i].short_description\n",
    "text"
   ]
  },
  {
   "cell_type": "code",
   "execution_count": 54,
   "id": "f91a04ba-89f7-477d-8354-90a921cc5384",
   "metadata": {
    "tags": []
   },
   "outputs": [
    {
     "data": {
      "text/plain": [
       "{'sequence': 'Health experts said it is too early to predict whether demand would match up with the 171 million doses of the new boosters the U.S. ordered for the fall.',\n",
       " 'labels': ['u.s. news', 'world news', 'parenting', 'comedy'],\n",
       " 'scores': [0.5229672789573669,\n",
       "  0.39395207166671753,\n",
       "  0.05158837139606476,\n",
       "  0.03149222582578659]}"
      ]
     },
     "execution_count": 54,
     "metadata": {},
     "output_type": "execute_result"
    }
   ],
   "source": [
    "results = pipe(text, candidate_labels=cats)\n",
    "results"
   ]
  },
  {
   "cell_type": "code",
   "execution_count": 55,
   "id": "d72e6d3d-c91d-4bee-827e-61be4e24a083",
   "metadata": {
    "tags": []
   },
   "outputs": [
    {
     "name": "stdout",
     "output_type": "stream",
     "text": [
      "actual: U.S. NEWS predicted: u.s. news\n",
      "{'sequence': 'Health experts said it is too early to predict whether demand would match up with the 171 million doses of the new boosters the U.S. ordered for the fall.', 'labels': ['u.s. news', 'world news', 'parenting', 'comedy'], 'scores': [0.5229672789573669, 0.39395207166671753, 0.05158837139606476, 0.03149222582578659]}\n",
      "actual: U.S. NEWS predicted: u.s. news\n",
      "{'sequence': \"He was subdued by passengers and crew when he fled to the back of the aircraft after the confrontation, according to the U.S. attorney's office in Los Angeles.\", 'labels': ['u.s. news', 'world news', 'parenting', 'comedy'], 'scores': [0.5980039834976196, 0.26056456565856934, 0.10371331870555878, 0.03771822899580002]}\n",
      "actual: COMEDY predicted: parenting\n",
      "{'sequence': '\"Until you have a dog you don\\'t understand what could be eaten.\"', 'labels': ['parenting', 'comedy', 'u.s. news', 'world news'], 'scores': [0.5189522504806519, 0.28340235352516174, 0.1624489426612854, 0.035196468234062195]}\n",
      "actual: PARENTING predicted: parenting\n",
      "{'sequence': '\"Accidentally put grown-up toothpaste on my toddler’s toothbrush and he screamed like I was cleaning his teeth with a Carolina Reaper dipped in Tabasco sauce.\"', 'labels': ['parenting', 'comedy', 'u.s. news', 'world news'], 'scores': [0.6810833811759949, 0.1379821002483368, 0.12808102369308472, 0.05285346508026123]}\n",
      "actual: U.S. NEWS predicted: world news\n",
      "{'sequence': 'Amy Cooper accused investment firm Franklin Templeton of unfairly firing her and branding her a racist after video of the Central Park encounter went viral.', 'labels': ['world news', 'u.s. news', 'comedy', 'parenting'], 'scores': [0.49417829513549805, 0.4218493103981018, 0.04862986132502556, 0.035342469811439514]}\n",
      "actual: U.S. NEWS predicted: u.s. news\n",
      "{'sequence': 'The 63-year-old woman was seen working at the South Carolina store on Thursday. She was found dead Monday after her family reported her missing, authorities said.', 'labels': ['u.s. news', 'world news', 'parenting', 'comedy'], 'scores': [0.49945691227912903, 0.30061033368110657, 0.11876167356967926, 0.08117111027240753]}\n",
      "actual: U.S. NEWS predicted: u.s. news\n",
      "{'sequence': '\"Who\\'s that behind you?\" an anchor for New York’s PIX11 asked journalist Michelle Ross as she finished up an interview.', 'labels': ['u.s. news', 'comedy', 'world news', 'parenting'], 'scores': [0.7013980746269226, 0.17538078129291534, 0.07286879420280457, 0.05035235360264778]}\n",
      "actual: WORLD NEWS predicted: u.s. news\n",
      "{'sequence': 'More than half a million people remained without water service three days after the storm lashed the U.S. territory.', 'labels': ['u.s. news', 'world news', 'parenting', 'comedy'], 'scores': [0.5539109110832214, 0.27949878573417664, 0.09925967454910278, 0.06733067333698273]}\n"
     ]
    },
    {
     "name": "stderr",
     "output_type": "stream",
     "text": [
      "You seem to be using the pipelines sequentially on GPU. In order to maximize efficiency please use a dataset\n"
     ]
    },
    {
     "name": "stdout",
     "output_type": "stream",
     "text": [
      "actual: CULTURE & ARTS predicted: u.s. news\n",
      "{'sequence': 'In \"Mija,\" director Isabel Castro combined music documentaries with the style of \"Euphoria\" and \"Clueless\" to tell a more nuanced immigration story.', 'labels': ['u.s. news', 'comedy', 'world news', 'parenting'], 'scores': [0.5727845430374146, 0.17682603001594543, 0.12701761722564697, 0.12337180972099304]}\n",
      "actual: WORLD NEWS predicted: world news\n",
      "{'sequence': \"White House officials say the crux of the president's visit to the U.N. this year will be a full-throated condemnation of Russia and its brutal war.\", 'labels': ['world news', 'u.s. news', 'parenting', 'comedy'], 'scores': [0.5133635997772217, 0.4231444001197815, 0.04503404721617699, 0.018457990139722824]}\n"
     ]
    }
   ],
   "source": [
    "for i in range(10):\n",
    "    text = df.iloc[i].short_description\n",
    "    results = pipe(text, candidate_labels=cats)\n",
    "    print(\"actual:\", df.iloc[i].category, \"predicted:\", results['labels'][0])\n",
    "    print(results)"
   ]
  },
  {
   "cell_type": "code",
   "execution_count": null,
   "id": "fd79302b-7e03-41f9-a463-da368586d34e",
   "metadata": {},
   "outputs": [],
   "source": []
  }
 ],
 "metadata": {
  "kernelspec": {
   "display_name": "Python 3 (ipykernel)",
   "language": "python",
   "name": "python3"
  },
  "language_info": {
   "codemirror_mode": {
    "name": "ipython",
    "version": 3
   },
   "file_extension": ".py",
   "mimetype": "text/x-python",
   "name": "python",
   "nbconvert_exporter": "python",
   "pygments_lexer": "ipython3",
   "version": "3.11.11"
  }
 },
 "nbformat": 4,
 "nbformat_minor": 5
}
